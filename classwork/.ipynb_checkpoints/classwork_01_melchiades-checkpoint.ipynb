{
 "cells": [
  {
   "cell_type": "markdown",
   "metadata": {},
   "source": [
    "## Trabalho: Definição de Dataset, Limpeza e Análise dos Dados\n",
    "##### 1. Escolha um dataset\n",
    "\n",
    "Escolha um dataset a partir do Portal de Dados Abertos da Prefeitura de Curitiba (https://www.curitiba.pr.gov.br/DADOSABERTOS/). Este dataset será usado em todos os trabalhos da disciplina. Portanto, escolha um dataset que pareça ser interessante.\n",
    "\n",
    "##### 2. Limpeza de dados\n",
    "\n",
    "Faça os procedimentos de limpeza de dados\n",
    "\n",
    "##### 3. Análise exploratória\n",
    "\n",
    "análise exploratória no dataset escolhido usando o Jupyter Notebook. Se for necessário, reduza o tamanho ou simplifique o dataset.\n",
    "\n",
    "##### 4. Relatório\n",
    "\n",
    "Escreva um relatório inicial contendo as seções:\n",
    "\n",
    "* Descrição do dataset (descreva o objetivo do dataset e os dados contidos nele como colunas, cobertura de dados, etc.)\n",
    "* Procedimentos de Limpeza (descreva como os dados foram limpos, o que foi retirado e quantos dados sobraram no final)\n",
    "* Análise Exploratória (apresente os gráficos e análises estatísticas elaborados; para cada elemento incluído, descreva quais padrões podem ser observados e sugira hipóteses para explicá-los)\n",
    "* Perguntas iniciais (descreva as perguntas que você pretende responder nas análises sobre os dados. estas perguntas podem ser alteradas nas próximas etapas).\n",
    "\n",
    "##### 5. Submissão\n",
    "\n",
    "Submeta abaixo:\n",
    "\n",
    "* um documento PDF contendo o relatório \n",
    "* documentos HTML baixados do Jupiter Notebook com os comandos usados para de limpeza e análise dos dados.\n",
    "\n",
    "Obs: se estiver fazendo o trabalho em dupla, apenas uma pessoa deve enviar"
   ]
  },
  {
   "cell_type": "markdown",
   "metadata": {},
   "source": [
    "------------------------"
   ]
  },
  {
   "cell_type": "markdown",
   "metadata": {},
   "source": [
    "##### 1. Escolha um dataset\n",
    "\n",
    "O dataset escolhido foi o que contém informações sobre Licitações e Contratações da prefeitura de Curitiba\n",
    "\n",
    "Metadados:\n",
    "* Descrição: Relatório contendo as informações sobre as compras e contratações, com o detalhamento dos gastos públicos.\n",
    "* Órgão responsável: Administração e Gestão de Pessoal\n",
    "* Responsável:\n",
    "    * Contratações: [Patricia Mendes Maurer][7] (Departamento de Gestão de Serviços)\n",
    "    * Licitações: [Fabíola Roberti Coneglian][7] (Departamento de Licitação e Gestão de Compras)\n",
    "* Frequência de atualização: Mensal\n",
    "* Espectro temporal: Últimos 5 anos\n",
    "* Campos: Ver no dicionário de dados\n",
    "* Ultima atualização: 01/04/2021 09:12\n",
    "* Dataset encoding: ANSI \"ISO-8859-1\"\n",
    "* Separador de coluna: ';'\n",
    "* Separador decimal: ','\n",
    "\n",
    "[Licitacoes Contratacoes Dados Basicos - Dicionario de Dados (Atualizado em 01/04/2021)][4] \\\n",
    "[Licitacoes Contratacoes Dados Basicos - Base de Dados (Atualizado em 01/04/2021)][1] \n",
    "\n",
    "[Licitacoes Contratacoes Empenhos - Dicionario de Dados (Atualizado em 01/04/2021)][5] \\\n",
    "[Licitacoes Contratacoes Empenhos - Base de Dados (Atualizado em 01/04/2021)][2]\n",
    "\n",
    "[Licitacoes Contratacoes Itens Processo - Dicionario de Dados (Atualizado em 01/04/2021)][6] \\\n",
    "[Licitacoes Contratacoes Itens Processo - Base de Dados (Atualizado em 01/04/2021)][3]\n",
    "\n",
    "[1]: https://mid.curitiba.pr.gov.br/dadosabertos/LicitacoesContratacoes/2021-04-01_Licitacoes_Contratacoes_Dados_Basicos_-_Base_de_Dados.csv\n",
    "[2]: https://mid.curitiba.pr.gov.br/dadosabertos/LicitacoesContratacoes/2021-04-01_Licitacoes_Contratacoes_Empenhos_-_Base_de_Dados.csv\n",
    "[3]: https://mid.curitiba.pr.gov.br/dadosabertos/LicitacoesContratacoes/2021-04-01_Licitacoes_Contratacoes_Itens_Processo_-_Base_de_Dados.csv\n",
    "[4]: https://mid.curitiba.pr.gov.br/dadosabertos/LicitacoesContratacoes/2021-04-01_Licitacoes_Contratacoes_Dados_Basicos_-_Dicionario_de_Dados.csv\n",
    "[5]: https://mid.curitiba.pr.gov.br/dadosabertos/LicitacoesContratacoes/2021-04-01_Licitacoes_Contratacoes_Empenhos_-_Dicionario_de_Dados.csv\n",
    "[6]: https://mid.curitiba.pr.gov.br/dadosabertos/LicitacoesContratacoes/2021-04-01_Licitacoes_Contratacoes_Itens_Processo_-_Dicionario_de_Dados.csv\n",
    "[7]: https://www.curitiba.pr.gov.br/conteudo/estrutura/67"
   ]
  },
  {
   "cell_type": "markdown",
   "metadata": {},
   "source": [
    "##### 1.2. Download dos dados"
   ]
  },
  {
   "cell_type": "code",
   "execution_count": 62,
   "metadata": {},
   "outputs": [],
   "source": [
    "import pandas as pd\n",
    "\n",
    "url = [\n",
    "\"https://mid.curitiba.pr.gov.br/dadosabertos/LicitacoesContratacoes/2021-04-01_Licitacoes_Contratacoes_Dados_Basicos_-_Base_de_Dados.csv\"\n",
    ",\"https://mid.curitiba.pr.gov.br/dadosabertos/LicitacoesContratacoes/2021-04-01_Licitacoes_Contratacoes_Empenhos_-_Base_de_Dados.csv\"\n",
    ",\"https://mid.curitiba.pr.gov.br/dadosabertos/LicitacoesContratacoes/2021-04-01_Licitacoes_Contratacoes_Itens_Processo_-_Base_de_Dados.csv\"\n",
    "]\n",
    "\n",
    "df_dados_basicos  = pd.read_csv(url[0], encoding = \"ISO-8859-1\", delimiter=';')\n",
    "#df_empenhos       = pd.read_csv(url[1], encoding = \"ISO-8859-1\", delimiter=';')\n",
    "#df_itens_processo = pd.read_csv(url[2], encoding = \"ISO-8859-1\", delimiter=';')"
   ]
  },
  {
   "cell_type": "markdown",
   "metadata": {},
   "source": [
    "##### 2. Limpeza de Dados\n",
    "A limpeza dos dados é feita em 3 partes:\n",
    "\n",
    "2.1 Remoção dos caracteres ilegais\\\n",
    "2.2 Alteração dos tipos das colunas\\\n",
    "2.3 Verificação "
   ]
  },
  {
   "cell_type": "markdown",
   "metadata": {},
   "source": [
    "##### 2.1. Remoção de caracteres ilegais"
   ]
  },
  {
   "cell_type": "code",
   "execution_count": 63,
   "metadata": {},
   "outputs": [
    {
     "name": "stdout",
     "output_type": "stream",
     "text": [
      "<class 'pandas.core.frame.DataFrame'>\n",
      "RangeIndex: 9947 entries, 0 to 9946\n",
      "Data columns (total 11 columns):\n",
      " #   Column                          Non-Null Count  Dtype \n",
      "---  ------                          --------------  ----- \n",
      " 0   Órgão                           9947 non-null   object\n",
      " 1   Número do Processo              9947 non-null   object\n",
      " 2   Modalidade                      9947 non-null   object\n",
      " 3   Objeto                          9947 non-null   object\n",
      " 4   Valor Total/Global              8971 non-null   object\n",
      " 5   Local de Execução/Entrega       9895 non-null   object\n",
      " 6   Data Diário Oficial             9947 non-null   object\n",
      " 7   Protocolo                       9947 non-null   object\n",
      " 8   Início da vigência do contrato  8184 non-null   object\n",
      " 9   Fim da Vigência do Contrato     8160 non-null   object\n",
      " 10  Situação                        9947 non-null   object\n",
      "dtypes: object(11)\n",
      "memory usage: 854.9+ KB\n"
     ]
    }
   ],
   "source": [
    "df_dados_basicos.info()"
   ]
  },
  {
   "cell_type": "code",
   "execution_count": 64,
   "metadata": {},
   "outputs": [],
   "source": [
    "#Converter os campos decimais\n",
    "df_dados_basicos[\"Valor Total/Global\"] = df_dados_basicos[\"Valor Total/Global\"].str.replace('R', '').str.replace('$', '').str.replace('.', '').str.replace(',', '.').str.strip().astype(float)"
   ]
  },
  {
   "cell_type": "code",
   "execution_count": 71,
   "metadata": {},
   "outputs": [],
   "source": [
    "#Converter os campos datetime\n",
    "df_dados_basicos[\"Data Diário Oficial\"] = pd.to_datetime(df_dados_basicos[\"Data Diário Oficial\"])\n",
    "df_dados_basicos[\"Início da vigência do contrato\"] = pd.to_datetime(df_dados_basicos[\"Início da vigência do contrato\"])\n",
    "df_dados_basicos[\"Fim da Vigência do Contrato\"] = pd.to_datetime(df_dados_basicos[\"Fim da Vigência do Contrato\"])"
   ]
  },
  {
   "cell_type": "code",
   "execution_count": 72,
   "metadata": {},
   "outputs": [
    {
     "name": "stdout",
     "output_type": "stream",
     "text": [
      "<class 'pandas.core.frame.DataFrame'>\n",
      "RangeIndex: 9947 entries, 0 to 9946\n",
      "Data columns (total 11 columns):\n",
      " #   Column                          Non-Null Count  Dtype         \n",
      "---  ------                          --------------  -----         \n",
      " 0   Órgão                           9947 non-null   object        \n",
      " 1   Número do Processo              9947 non-null   object        \n",
      " 2   Modalidade                      9947 non-null   object        \n",
      " 3   Objeto                          9947 non-null   object        \n",
      " 4   Valor Total/Global              8971 non-null   float64       \n",
      " 5   Local de Execução/Entrega       9895 non-null   object        \n",
      " 6   Data Diário Oficial             9947 non-null   datetime64[ns]\n",
      " 7   Protocolo                       9947 non-null   object        \n",
      " 8   Início da vigência do contrato  8184 non-null   datetime64[ns]\n",
      " 9   Fim da Vigência do Contrato     8160 non-null   datetime64[ns]\n",
      " 10  Situação                        9947 non-null   object        \n",
      "dtypes: datetime64[ns](3), float64(1), object(7)\n",
      "memory usage: 854.9+ KB\n"
     ]
    }
   ],
   "source": [
    "df_dados_basicos.info()"
   ]
  },
  {
   "cell_type": "code",
   "execution_count": null,
   "metadata": {},
   "outputs": [],
   "source": []
  }
 ],
 "metadata": {
  "kernelspec": {
   "display_name": "Python 3",
   "language": "python",
   "name": "python3"
  },
  "language_info": {
   "codemirror_mode": {
    "name": "ipython",
    "version": 3
   },
   "file_extension": ".py",
   "mimetype": "text/x-python",
   "name": "python",
   "nbconvert_exporter": "python",
   "pygments_lexer": "ipython3",
   "version": "3.7.6"
  }
 },
 "nbformat": 4,
 "nbformat_minor": 4
}
