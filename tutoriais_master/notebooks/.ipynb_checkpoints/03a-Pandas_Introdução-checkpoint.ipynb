{
 "cells": [
  {
   "cell_type": "markdown",
   "metadata": {},
   "source": [
    "# Introdução a Pandas\n",
    "\n",
    "Pandas é uma biblioteca para a manipulação de DataFrames. DataFrames são dados estruturados em formato de planilha. Quem está familiarizado com o Excel pode perceber que o Pandas faz coisas parecidas, como criação de novas colunas usando fórmulas, ordenação de valores, cálculo de estatísticas, plotagem de gráficos etc. A vantagem do Pandas é poder fazer isto tudo de uma forma programável, que se adequa até mesmo a grandes quantidades de dados.\n",
    "\n",
    "Para usar o Pandas, o primeiro passo é importar a biblioteca. Aqui usamos o \"apelido\" *pd* para nos referenciarmos à biblioteca nas próximas células. Execute todas as células de código do tutorial para ver o resultado."
   ]
  },
  {
   "cell_type": "code",
   "execution_count": 2,
   "metadata": {},
   "outputs": [],
   "source": [
    "#importing libraries\n",
    "import pandas as pd\n",
    "\n",
    "#%matplotlib inline"
   ]
  },
  {
   "cell_type": "markdown",
   "metadata": {},
   "source": [
    "## Lendo dados de um arquivo\n",
    "\n",
    "Muitos dados são gravados em arquivos CSV (Comma Separated Values, ou Valores Separados por Vírgula). É muito fácil importar dados em CSV usando o Pandas, como mostra a célula abaixo. Estes dados também poderiam vir de uma planilha do Excel ou de um banco de dados, dependendo do caso.\n",
    "\n",
    "Nos comandos abaixo, o método *read_csv* lê os dados do arquivo *aluguel.csv* que se encontra na pasta *data*. Os dados são atribuídos para o DataFrame que chamamos de df (mas poderíamos usar qualquer outro nome). Para exibir o conteúdo do DataFrame, basta escrever o nome na última linha da célula.\n",
    "\n",
    "O DataFrame carregado contém dados de apartamentos para alugar na cidade de Curitiba."
   ]
  },
  {
   "cell_type": "code",
   "execution_count": 3,
   "metadata": {},
   "outputs": [
    {
     "data": {
      "text/html": [
       "<div>\n",
       "<style scoped>\n",
       "    .dataframe tbody tr th:only-of-type {\n",
       "        vertical-align: middle;\n",
       "    }\n",
       "\n",
       "    .dataframe tbody tr th {\n",
       "        vertical-align: top;\n",
       "    }\n",
       "\n",
       "    .dataframe thead th {\n",
       "        text-align: right;\n",
       "    }\n",
       "</style>\n",
       "<table border=\"1\" class=\"dataframe\">\n",
       "  <thead>\n",
       "    <tr style=\"text-align: right;\">\n",
       "      <th></th>\n",
       "      <th>codigo</th>\n",
       "      <th>endereco</th>\n",
       "      <th>quartos</th>\n",
       "      <th>suite</th>\n",
       "      <th>area</th>\n",
       "      <th>vaga</th>\n",
       "      <th>aluguel</th>\n",
       "      <th>condominio</th>\n",
       "      <th>data</th>\n",
       "    </tr>\n",
       "  </thead>\n",
       "  <tbody>\n",
       "    <tr>\n",
       "      <th>0</th>\n",
       "      <td>34</td>\n",
       "      <td>Rua Desembargador Westphalen</td>\n",
       "      <td>2</td>\n",
       "      <td>0</td>\n",
       "      <td>90</td>\n",
       "      <td>0</td>\n",
       "      <td>900</td>\n",
       "      <td>371</td>\n",
       "      <td>11/10/17</td>\n",
       "    </tr>\n",
       "    <tr>\n",
       "      <th>1</th>\n",
       "      <td>167</td>\n",
       "      <td>Rua Jose Loureiro</td>\n",
       "      <td>2</td>\n",
       "      <td>0</td>\n",
       "      <td>64</td>\n",
       "      <td>0</td>\n",
       "      <td>650</td>\n",
       "      <td>428</td>\n",
       "      <td>15/07/17</td>\n",
       "    </tr>\n",
       "    <tr>\n",
       "      <th>2</th>\n",
       "      <td>6784</td>\n",
       "      <td>Rua Jose Loureiro</td>\n",
       "      <td>2</td>\n",
       "      <td>0</td>\n",
       "      <td>81</td>\n",
       "      <td>0</td>\n",
       "      <td>1100</td>\n",
       "      <td>400</td>\n",
       "      <td>23/08/17</td>\n",
       "    </tr>\n",
       "    <tr>\n",
       "      <th>3</th>\n",
       "      <td>82</td>\n",
       "      <td>Rua Lourenço Pinto</td>\n",
       "      <td>2</td>\n",
       "      <td>0</td>\n",
       "      <td>50</td>\n",
       "      <td>0</td>\n",
       "      <td>1350</td>\n",
       "      <td>300</td>\n",
       "      <td>19/09/17</td>\n",
       "    </tr>\n",
       "    <tr>\n",
       "      <th>4</th>\n",
       "      <td>2970</td>\n",
       "      <td>Rua Lourenço Pinto</td>\n",
       "      <td>2</td>\n",
       "      <td>0</td>\n",
       "      <td>63</td>\n",
       "      <td>0</td>\n",
       "      <td>1300</td>\n",
       "      <td>300</td>\n",
       "      <td>05/08/17</td>\n",
       "    </tr>\n",
       "    <tr>\n",
       "      <th>5</th>\n",
       "      <td>34197</td>\n",
       "      <td>Alameda Doutor Muricy</td>\n",
       "      <td>2</td>\n",
       "      <td>0</td>\n",
       "      <td>80</td>\n",
       "      <td>1</td>\n",
       "      <td>900</td>\n",
       "      <td>410</td>\n",
       "      <td>23/10/17</td>\n",
       "    </tr>\n",
       "    <tr>\n",
       "      <th>6</th>\n",
       "      <td>5072</td>\n",
       "      <td>Alameda Doutor Muricy</td>\n",
       "      <td>2</td>\n",
       "      <td>0</td>\n",
       "      <td>84</td>\n",
       "      <td>0</td>\n",
       "      <td>1100</td>\n",
       "      <td>382</td>\n",
       "      <td>02/09/17</td>\n",
       "    </tr>\n",
       "    <tr>\n",
       "      <th>7</th>\n",
       "      <td>469</td>\n",
       "      <td>Rua Desembargador Westphalen</td>\n",
       "      <td>1</td>\n",
       "      <td>0</td>\n",
       "      <td>30</td>\n",
       "      <td>0</td>\n",
       "      <td>550</td>\n",
       "      <td>210</td>\n",
       "      <td>03/07/17</td>\n",
       "    </tr>\n",
       "    <tr>\n",
       "      <th>8</th>\n",
       "      <td>24</td>\n",
       "      <td>Rua Desembargador Westphalen</td>\n",
       "      <td>1</td>\n",
       "      <td>0</td>\n",
       "      <td>60</td>\n",
       "      <td>1</td>\n",
       "      <td>800</td>\n",
       "      <td>120</td>\n",
       "      <td>30/09/17</td>\n",
       "    </tr>\n",
       "    <tr>\n",
       "      <th>9</th>\n",
       "      <td>74</td>\n",
       "      <td>Avenida Visconde de Guarapuava</td>\n",
       "      <td>2</td>\n",
       "      <td>1</td>\n",
       "      <td>132</td>\n",
       "      <td>1</td>\n",
       "      <td>1800</td>\n",
       "      <td>520</td>\n",
       "      <td>12/10/17</td>\n",
       "    </tr>\n",
       "    <tr>\n",
       "      <th>10</th>\n",
       "      <td>9850</td>\n",
       "      <td>Avenida Visconde de Guarapuava</td>\n",
       "      <td>1</td>\n",
       "      <td>0</td>\n",
       "      <td>64</td>\n",
       "      <td>1</td>\n",
       "      <td>600</td>\n",
       "      <td>326</td>\n",
       "      <td>15/07/17</td>\n",
       "    </tr>\n",
       "    <tr>\n",
       "      <th>11</th>\n",
       "      <td>82343</td>\n",
       "      <td>Avenida Sete de Setembro</td>\n",
       "      <td>1</td>\n",
       "      <td>0</td>\n",
       "      <td>45</td>\n",
       "      <td>0</td>\n",
       "      <td>750</td>\n",
       "      <td>420</td>\n",
       "      <td>11/10/17</td>\n",
       "    </tr>\n",
       "    <tr>\n",
       "      <th>12</th>\n",
       "      <td>20802</td>\n",
       "      <td>Avenida Sete de Setembro</td>\n",
       "      <td>1</td>\n",
       "      <td>0</td>\n",
       "      <td>47</td>\n",
       "      <td>0</td>\n",
       "      <td>600</td>\n",
       "      <td>405</td>\n",
       "      <td>27/07/17</td>\n",
       "    </tr>\n",
       "    <tr>\n",
       "      <th>13</th>\n",
       "      <td>568</td>\n",
       "      <td>Rua Alferes Poli</td>\n",
       "      <td>1</td>\n",
       "      <td>0</td>\n",
       "      <td>43</td>\n",
       "      <td>0</td>\n",
       "      <td>600</td>\n",
       "      <td>330</td>\n",
       "      <td>12/08/17</td>\n",
       "    </tr>\n",
       "    <tr>\n",
       "      <th>14</th>\n",
       "      <td>294579</td>\n",
       "      <td>Avenida Silva Jardim</td>\n",
       "      <td>1</td>\n",
       "      <td>0</td>\n",
       "      <td>36</td>\n",
       "      <td>0</td>\n",
       "      <td>550</td>\n",
       "      <td>350</td>\n",
       "      <td>01/10/17</td>\n",
       "    </tr>\n",
       "    <tr>\n",
       "      <th>15</th>\n",
       "      <td>59375</td>\n",
       "      <td>Avenida Silva Jardim</td>\n",
       "      <td>1</td>\n",
       "      <td>0</td>\n",
       "      <td>33</td>\n",
       "      <td>0</td>\n",
       "      <td>560</td>\n",
       "      <td>305</td>\n",
       "      <td>11/09/17</td>\n",
       "    </tr>\n",
       "    <tr>\n",
       "      <th>16</th>\n",
       "      <td>80</td>\n",
       "      <td>Rua Desembargador Westphalen</td>\n",
       "      <td>1</td>\n",
       "      <td>0</td>\n",
       "      <td>80</td>\n",
       "      <td>1</td>\n",
       "      <td>900</td>\n",
       "      <td>350</td>\n",
       "      <td>12/08/17</td>\n",
       "    </tr>\n",
       "    <tr>\n",
       "      <th>17</th>\n",
       "      <td>66490</td>\n",
       "      <td>Rua Desembargador Westphalen</td>\n",
       "      <td>1</td>\n",
       "      <td>0</td>\n",
       "      <td>80</td>\n",
       "      <td>1</td>\n",
       "      <td>1100</td>\n",
       "      <td>350</td>\n",
       "      <td>29/08/17</td>\n",
       "    </tr>\n",
       "    <tr>\n",
       "      <th>18</th>\n",
       "      <td>2381</td>\n",
       "      <td>Rua Rockefeller</td>\n",
       "      <td>2</td>\n",
       "      <td>0</td>\n",
       "      <td>54</td>\n",
       "      <td>0</td>\n",
       "      <td>900</td>\n",
       "      <td>240</td>\n",
       "      <td>19/09/17</td>\n",
       "    </tr>\n",
       "    <tr>\n",
       "      <th>19</th>\n",
       "      <td>44803</td>\n",
       "      <td>Rua Rockefeller</td>\n",
       "      <td>2</td>\n",
       "      <td>0</td>\n",
       "      <td>77</td>\n",
       "      <td>1</td>\n",
       "      <td>950</td>\n",
       "      <td>200</td>\n",
       "      <td>19/07/17</td>\n",
       "    </tr>\n",
       "  </tbody>\n",
       "</table>\n",
       "</div>"
      ],
      "text/plain": [
       "    codigo                        endereco  quartos  suite  area  vaga  \\\n",
       "0       34    Rua Desembargador Westphalen        2      0    90     0   \n",
       "1      167               Rua Jose Loureiro        2      0    64     0   \n",
       "2     6784               Rua Jose Loureiro        2      0    81     0   \n",
       "3       82              Rua Lourenço Pinto        2      0    50     0   \n",
       "4     2970              Rua Lourenço Pinto        2      0    63     0   \n",
       "5    34197           Alameda Doutor Muricy        2      0    80     1   \n",
       "6     5072           Alameda Doutor Muricy        2      0    84     0   \n",
       "7      469    Rua Desembargador Westphalen        1      0    30     0   \n",
       "8       24    Rua Desembargador Westphalen        1      0    60     1   \n",
       "9       74  Avenida Visconde de Guarapuava        2      1   132     1   \n",
       "10    9850  Avenida Visconde de Guarapuava        1      0    64     1   \n",
       "11   82343        Avenida Sete de Setembro        1      0    45     0   \n",
       "12   20802        Avenida Sete de Setembro        1      0    47     0   \n",
       "13     568                Rua Alferes Poli        1      0    43     0   \n",
       "14  294579            Avenida Silva Jardim        1      0    36     0   \n",
       "15   59375            Avenida Silva Jardim        1      0    33     0   \n",
       "16      80    Rua Desembargador Westphalen        1      0    80     1   \n",
       "17   66490    Rua Desembargador Westphalen        1      0    80     1   \n",
       "18    2381                 Rua Rockefeller        2      0    54     0   \n",
       "19   44803                 Rua Rockefeller        2      0    77     1   \n",
       "\n",
       "    aluguel  condominio      data  \n",
       "0       900         371  11/10/17  \n",
       "1       650         428  15/07/17  \n",
       "2      1100         400  23/08/17  \n",
       "3      1350         300  19/09/17  \n",
       "4      1300         300  05/08/17  \n",
       "5       900         410  23/10/17  \n",
       "6      1100         382  02/09/17  \n",
       "7       550         210  03/07/17  \n",
       "8       800         120  30/09/17  \n",
       "9      1800         520  12/10/17  \n",
       "10      600         326  15/07/17  \n",
       "11      750         420  11/10/17  \n",
       "12      600         405  27/07/17  \n",
       "13      600         330  12/08/17  \n",
       "14      550         350  01/10/17  \n",
       "15      560         305  11/09/17  \n",
       "16      900         350  12/08/17  \n",
       "17     1100         350  29/08/17  \n",
       "18      900         240  19/09/17  \n",
       "19      950         200  19/07/17  "
      ]
     },
     "execution_count": 3,
     "metadata": {},
     "output_type": "execute_result"
    }
   ],
   "source": [
    "# lê o arquivo CSV\n",
    "df = pd.read_csv('../data/aluguel.csv')\n",
    "\n",
    "# mostra o conteúdo do DataFrame\n",
    "df"
   ]
  },
  {
   "cell_type": "markdown",
   "metadata": {},
   "source": [
    "Para saber o tamanho do DataFrame, podemos usar a função `len()`:"
   ]
  },
  {
   "cell_type": "code",
   "execution_count": null,
   "metadata": {},
   "outputs": [],
   "source": [
    "print(\"Tamanho do DataFrame: \", len(df))"
   ]
  },
  {
   "cell_type": "markdown",
   "metadata": {},
   "source": [
    "## Manipulando o DataFrame\n",
    "\n",
    "Podemos manipular o DataFrame de diversas formas. É possível criar novos DataFrames com subconjuntos de colunas do DataFrame original. Abaixo um DataFrame chamado df_small é criado com o conteúdo das colunas aluguel e condominio."
   ]
  },
  {
   "cell_type": "code",
   "execution_count": null,
   "metadata": {},
   "outputs": [],
   "source": [
    "df_small = df[['aluguel', 'condominio']]\n",
    "\n",
    "df_small"
   ]
  },
  {
   "cell_type": "markdown",
   "metadata": {},
   "source": [
    "Também é possível selecionar subconjuntos das linhas do DataFrame. Abaixo selecionamos apenas as linhas representando apartamentos de área maior que $50m^2$."
   ]
  },
  {
   "cell_type": "code",
   "execution_count": null,
   "metadata": {},
   "outputs": [],
   "source": [
    "df[df.area > 50]"
   ]
  },
  {
   "cell_type": "markdown",
   "metadata": {},
   "source": [
    "Podemos também transpor (rotacionar) um DataFrame: "
   ]
  },
  {
   "cell_type": "code",
   "execution_count": null,
   "metadata": {},
   "outputs": [],
   "source": [
    "df.T"
   ]
  },
  {
   "cell_type": "markdown",
   "metadata": {},
   "source": [
    "Perceba que o comando acima não alterou o DataFrame original, como pode ser visto abaixo. Ele apenas retornou um novo DataFrame. Para alterar um DataFrame, em geral, você precisa atribuir o resultado do comando à variável original. Por exemplo, usando df = df.T\n"
   ]
  },
  {
   "cell_type": "code",
   "execution_count": null,
   "metadata": {},
   "outputs": [],
   "source": [
    "df"
   ]
  },
  {
   "cell_type": "markdown",
   "metadata": {},
   "source": [
    "É possível criar novas colunas a partir de outras colunas do DataFrame. Abaixo criamos uma coluna chamada *total* contendo o valor do aluguel somado ao condomínio."
   ]
  },
  {
   "cell_type": "code",
   "execution_count": null,
   "metadata": {},
   "outputs": [],
   "source": [
    "df['total'] = df['aluguel'] + df['condominio']\n",
    "\n",
    "df"
   ]
  },
  {
   "cell_type": "markdown",
   "metadata": {},
   "source": [
    "### Exercício\n",
    "\n",
    "Suponha que o seu orçamento para alugar um apartamento é de R$ 900. Crie uma nova coluna com o nome \"diferença\" que contenha o valor que irá sobrar/faltar do seu orçamento de acordo com o valor total do apartamento."
   ]
  },
  {
   "cell_type": "code",
   "execution_count": null,
   "metadata": {},
   "outputs": [],
   "source": []
  },
  {
   "cell_type": "markdown",
   "metadata": {},
   "source": [
    "## Analisando dados do DataFrame\n",
    "\n",
    "Os DataFrames possuem um método chamado *describe* que exibe estatísticas sobre as colunas do DataFrame. Por exemplo, como pode ser visto abaixo, o valor máximo para o condomínio é 520, enquanto a média é 335.85."
   ]
  },
  {
   "cell_type": "code",
   "execution_count": null,
   "metadata": {},
   "outputs": [],
   "source": [
    "df.describe()"
   ]
  },
  {
   "cell_type": "markdown",
   "metadata": {},
   "source": [
    "DataFrames também suportam a plotagem de gráficos. Por exemplo, abaixo temos Box Plots representando a distribuição dos valores de aluguel e condomínio. Mais detalhes sobre plotagem de gráficos serão fornecidos em um outro momento."
   ]
  },
  {
   "cell_type": "code",
   "execution_count": null,
   "metadata": {},
   "outputs": [],
   "source": [
    "df_small.plot.box()"
   ]
  },
  {
   "cell_type": "markdown",
   "metadata": {},
   "source": [
    "É possível calcular a média de uma coluna:"
   ]
  },
  {
   "cell_type": "code",
   "execution_count": null,
   "metadata": {},
   "outputs": [],
   "source": [
    "df['aluguel'].mean()"
   ]
  },
  {
   "cell_type": "markdown",
   "metadata": {},
   "source": [
    "E várias outras estatísticas:"
   ]
  },
  {
   "cell_type": "code",
   "execution_count": null,
   "metadata": {},
   "outputs": [],
   "source": [
    "print(df['aluguel'].mean(), df['aluguel'].min(), df['aluguel'].max())"
   ]
  },
  {
   "cell_type": "markdown",
   "metadata": {},
   "source": [
    "Para ordenar um DataFrame baseado em valores de uma coluna, use:"
   ]
  },
  {
   "cell_type": "code",
   "execution_count": null,
   "metadata": {},
   "outputs": [],
   "source": [
    "df.sort_values('total')"
   ]
  }
 ],
 "metadata": {
  "hide_input": false,
  "kernelspec": {
   "display_name": "Python 3",
   "language": "python",
   "name": "python3"
  },
  "language_info": {
   "codemirror_mode": {
    "name": "ipython",
    "version": 3
   },
   "file_extension": ".py",
   "mimetype": "text/x-python",
   "name": "python",
   "nbconvert_exporter": "python",
   "pygments_lexer": "ipython3",
   "version": "3.7.10"
  },
  "toc": {
   "base_numbering": 1,
   "nav_menu": {},
   "number_sections": true,
   "sideBar": true,
   "skip_h1_title": false,
   "title_cell": "Table of Contents",
   "title_sidebar": "Contents",
   "toc_cell": false,
   "toc_position": {},
   "toc_section_display": true,
   "toc_window_display": false
  }
 },
 "nbformat": 4,
 "nbformat_minor": 2
}
